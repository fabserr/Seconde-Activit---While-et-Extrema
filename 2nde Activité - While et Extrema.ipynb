{
 "cells": [
  {
   "cell_type": "raw",
   "metadata": {},
   "source": [
    "https://mybinder.org/v2/gh/fabserr/Seconde-Activit---While-et-Extrema/master"
   ]
  },
  {
   "cell_type": "markdown",
   "metadata": {},
   "source": [
    "# 2nde : Activité - Boucle non bornée et extremum d'une fonction"
   ]
  },
  {
   "cell_type": "markdown",
   "metadata": {},
   "source": [
    "Durant cette activité, nous allons d'abord apprendre à utiliser une **boucle non bornée**.\n",
    "Ensuite, nous verrons comment une telle boucle peut nous permettre de calculer une approximation des **extremums** d'une fonction."
   ]
  },
  {
   "cell_type": "markdown",
   "metadata": {},
   "source": [
    "## PARTIE A - Découverte de la boucle non bornée en Python"
   ]
  },
  {
   "cell_type": "markdown",
   "metadata": {},
   "source": [
    "Le principe de la boucle non bornée nommée <code>while</code> en Python, est d’exécuter un bloc d’instructions tant qu'une condition donnée est vraie. \n",
    "Pour comprendre le principe, exécutez le bloc d'instruction suivant :"
   ]
  },
  {
   "cell_type": "code",
   "execution_count": null,
   "metadata": {},
   "outputs": [],
   "source": [
    "i = 1\n",
    "while i <= 5:\n",
    "    print(i)\n",
    "    i = i + 1\n",
    "print('Fini !')"
   ]
  },
  {
   "cell_type": "markdown",
   "metadata": {},
   "source": [
    "<br>**A.1)** Que fait le petit programme précédent ?</br>\n",
    "<br> On propose d'utiliser cette boucle sur quelques exemples. </br>\n",
    "<br>**A.2)** Modifier la suite d'instructions suivantes pour que l'on affiche les nombres de 0 à 10.</br>"
   ]
  },
  {
   "cell_type": "code",
   "execution_count": null,
   "metadata": {},
   "outputs": [],
   "source": [
    "i = 1\n",
    "while i <= 5:\n",
    "    print(i)\n",
    "    i = i + 1\n",
    "print('Fini !')"
   ]
  },
  {
   "cell_type": "markdown",
   "metadata": {},
   "source": [
    "La fonction <code>somme</code> programmée ci-après permet de calculer la somme des 10 premiers nombres entiers (de 0 à 9)."
   ]
  },
  {
   "cell_type": "code",
   "execution_count": 3,
   "metadata": {},
   "outputs": [],
   "source": [
    "def somme():\n",
    "    n=0\n",
    "    sum=0\n",
    "    while n<10:\n",
    "        sum=sum+n\n",
    "        n=n+1\n",
    "    return sum"
   ]
  },
  {
   "cell_type": "markdown",
   "metadata": {},
   "source": [
    "**A.3)** Compléter la cellule ci-dessous pour afficher : \"La somme des entiers compris entre 0 et 9 est égale à S\" *où S est la somme cherchée*."
   ]
  },
  {
   "cell_type": "code",
   "execution_count": null,
   "metadata": {},
   "outputs": [],
   "source": [
    "print()"
   ]
  },
  {
   "cell_type": "markdown",
   "metadata": {},
   "source": [
    "**A.4)** Modifier le code de la fonction somme afin de calculer la somme des entiers compris entre 0 et 15 (inclus). A quel nombre est égale cette somme ?"
   ]
  },
  {
   "cell_type": "code",
   "execution_count": null,
   "metadata": {},
   "outputs": [],
   "source": [
    "somme()"
   ]
  },
  {
   "cell_type": "markdown",
   "metadata": {},
   "source": [
    "On souhaite maintenant écrire une fonction permettant de calculer le produit des 10 premiers entiers strictement positifs. Ce produit est appelé **la factorielle de 10**."
   ]
  },
  {
   "cell_type": "markdown",
   "metadata": {},
   "source": [
    "**A.5)** Compléter la fonction <code>fact10</code> afin qu'elle effectue le calcul demandé."
   ]
  },
  {
   "cell_type": "code",
   "execution_count": null,
   "metadata": {},
   "outputs": [],
   "source": [
    "def fact10():\n",
    "    n=...\n",
    "    product=...\n",
    "    while n<...:\n",
    "        product=...*...\n",
    "        n=...+...\n",
    "    return product\n",
    "fact10()"
   ]
  },
  {
   "cell_type": "markdown",
   "metadata": {},
   "source": [
    "**A.6**) Quelle est la factorielle de 10 ?"
   ]
  },
  {
   "cell_type": "markdown",
   "metadata": {},
   "source": [
    "*La factorielle d'un nombre $n$ est donc le produit des entiers strictement positifs et inférieurs ou égaux à $n$.*"
   ]
  },
  {
   "cell_type": "markdown",
   "metadata": {},
   "source": [
    "Nous souhaitons maintenant savoir pour quel entier la factorielle de cet entier dépasse le milliard."
   ]
  },
  {
   "cell_type": "markdown",
   "metadata": {},
   "source": [
    "**A.7)** Compléter la fonction <code>fact_greater_than_billion()</code> afin d'obtenir la réponse à la question cherchée."
   ]
  },
  {
   "cell_type": "code",
   "execution_count": null,
   "metadata": {},
   "outputs": [],
   "source": [
    "def fact_greater_than_billion():\n",
    "    fact=...\n",
    "    n=...\n",
    "    milliard=...\n",
    "    while ... < ... :\n",
    "        ... = ... ... ...\n",
    "        ... = ... ... ...\n",
    "    print ('La factorielle de ',n,' est plus grande que 1 000 000 000. Fact(',n,') est égale à : ',fact)\n",
    "fact_greater_than_billion()"
   ]
  },
  {
   "cell_type": "markdown",
   "metadata": {},
   "source": [
    "## PARTIE B - Calcul d'un extremum d'une fonction"
   ]
  },
  {
   "cell_type": "markdown",
   "metadata": {},
   "source": [
    "Maintenant que nous savons utiliser une boucle non bornée : <code>while</code>, nous allons l'utiliser pour calculer une approximation des extremas la fonction représentée ci-dessous."
   ]
  },
  {
   "cell_type": "markdown",
   "metadata": {},
   "source": [
    "<img style=\"w3-image\" src=\"representation_fonction.PNG\"\n",
    "     alt=\"Courbe représentative de f\">"
   ]
  },
  {
   "cell_type": "markdown",
   "metadata": {},
   "source": [
    "La fonction $f$ représentée ci-dessus est définie par $\\forall x \\in \\mathopen{[}-1\\,;3,5\\mathclose{]}, f(x) = 4x^2-x^3$."
   ]
  },
  {
   "cell_type": "markdown",
   "metadata": {},
   "source": [
    "**B.1)** Complétez la fonction Python <code>f(x)</code> ci dessous afin qu'elle retourne $4x^2-x^3$"
   ]
  },
  {
   "cell_type": "code",
   "execution_count": null,
   "metadata": {},
   "outputs": [],
   "source": [
    "def f(x):\n",
    "    ..."
   ]
  },
  {
   "cell_type": "markdown",
   "metadata": {},
   "source": [
    "**B.2)** A l'aide de votre fonction, écrivez le code Python permettant d'afficher les images de $-1$, $0$ et $2$  par $f$."
   ]
  },
  {
   "cell_type": "code",
   "execution_count": null,
   "metadata": {},
   "outputs": [],
   "source": []
  },
  {
   "cell_type": "markdown",
   "metadata": {},
   "source": [
    "<br>On souhaite maintenant programmer une fonction permettant de compléter le **tableau de valeurs** suivant :</br>"
   ]
  },
  {
   "cell_type": "markdown",
   "metadata": {},
   "source": [
    "| $x$ |$-1$|$${\\dfrac{-1}{2}}$$|$0$|$${\\dfrac{1}{2}}$$|$1$|$${\\dfrac{3}{2}}$$|$2$|$${\\dfrac{5}{2}}$$|$3$|$${\\dfrac{7}{2}}$$|$4$|$${\\dfrac{9}{2}}$$|\n",
    "|---|----|-------------------|---|------------------|---|------------------|---|------------------|---|--------------------|---|------------------|\n",
    "| f(x)|    |                   |   |                  |   |                  |   |                  |   |                     |   |                  |"
   ]
  },
  {
   "cell_type": "markdown",
   "metadata": {},
   "source": [
    "<br>Pour cela, on propose de traduire l'algorithme suivant en langage Python :</br>\n",
    "<br></br>\n",
    "<br>**Fonction tableau_de_valeurs()**</br>\n",
    "<br>&nbsp; &nbsp; &nbsp; $x \\leftarrow -1$</br>\n",
    "<br>&nbsp; &nbsp; &nbsp; $p \\leftarrow 0.5$</br>\n",
    "<br>&nbsp; &nbsp; &nbsp; &nbsp; &nbsp; &nbsp; *Tant que* $x \\leq 4$</br>\n",
    "<br>&nbsp; &nbsp; &nbsp; &nbsp; &nbsp; &nbsp; &nbsp; &nbsp; &nbsp; *Afficher* $(x;f(x))$</br>\n",
    "<br>&nbsp; &nbsp; &nbsp; &nbsp; &nbsp; &nbsp; &nbsp; &nbsp; &nbsp; $x \\leftarrow x+p$</br>\n",
    "<br>&nbsp; &nbsp; &nbsp; &nbsp; &nbsp; &nbsp; *Fin Tant que*</br>\n"
   ]
  },
  {
   "cell_type": "markdown",
   "metadata": {},
   "source": [
    "**B.3)** Compléter la fonction <code>tableau_de_valeurs()</code> afin qu'elle traduise l'algorithme précédent."
   ]
  },
  {
   "cell_type": "code",
   "execution_count": null,
   "metadata": {},
   "outputs": [],
   "source": [
    "def tableau_de_valeurs():\n",
    "    x = ...\n",
    "    p = ...\n",
    "    while ... :\n",
    "        print(...,...)\n",
    "        x = ...\n",
    "\n",
    "tableau_de_valeurs()"
   ]
  },
  {
   "cell_type": "markdown",
   "metadata": {},
   "source": [
    "On s'intéresse maintenant à la fonction Python suivante :"
   ]
  },
  {
   "cell_type": "code",
   "execution_count": null,
   "metadata": {},
   "outputs": [],
   "source": [
    "#\n",
    "def nouvelle_utilisation_de_while():\n",
    "    pas = 0.1\n",
    "    x = 2\n",
    "    y1 = f(x)\n",
    "    y2 = f(x+pas)\n",
    "    while y2>y1:\n",
    "        x = x+pas\n",
    "        y1 = f(x)\n",
    "        y2 = f(x+pas)\n",
    "    return x,f(x)"
   ]
  },
  {
   "cell_type": "markdown",
   "metadata": {},
   "source": [
    "**B.4)** Selon vous, que calcule la fonction <code>nouvelle_utilisation_de_while</code> ? Ecrire un commentaire en utilisant le caractère #, renommer la fonction judicieusement puis exécutez la dans la cellule suivante."
   ]
  },
  {
   "cell_type": "code",
   "execution_count": null,
   "metadata": {},
   "outputs": [],
   "source": []
  },
  {
   "cell_type": "markdown",
   "metadata": {},
   "source": [
    "**B.5)** Recopier la fonction ci-dessus dans la cellule ci-dessous puis effectuer les modifications nécessaires pour obtenir une meilleure précision du couple $(x,f(x))$ calculé. "
   ]
  },
  {
   "cell_type": "code",
   "execution_count": null,
   "metadata": {},
   "outputs": [],
   "source": [
    "def maximum():\n",
    "    ...\n",
    "    \n",
    "    \n",
    "    \n",
    "    \n",
    "    \n",
    "    \n",
    "    "
   ]
  },
  {
   "cell_type": "markdown",
   "metadata": {},
   "source": [
    "**B.6)** Tester la fonction ainsi programmée."
   ]
  },
  {
   "cell_type": "code",
   "execution_count": null,
   "metadata": {},
   "outputs": [],
   "source": []
  },
  {
   "cell_type": "markdown",
   "metadata": {},
   "source": [
    "**B.7)** Que se passe-t-il lorsque l'on remplace x=2 par x=-1. Pouvez-vous expliquer ce comportement ?"
   ]
  },
  {
   "cell_type": "markdown",
   "metadata": {},
   "source": [
    "**B.8)** Complétez la fonction <code>minimum()</code> permettant de trouver le minimum de la fonction $f$ puis exécuter la cellule."
   ]
  },
  {
   "cell_type": "code",
   "execution_count": 2,
   "metadata": {},
   "outputs": [
    {
     "data": {
      "text/plain": [
       "\"Votre fonction n'est pas encore au point, continuez à chercher.\""
      ]
     },
     "execution_count": 2,
     "metadata": {},
     "output_type": "execute_result"
    }
   ],
   "source": [
    "def minimum():\n",
    "    return -1\n",
    "\n",
    "def nextQuestion():\n",
    "    fin = 0\n",
    "    if (fin-0.01<=minimum()<=fin+0.01): return ('Bravo, vous savez utiliser les boucles non bornées pour trouver des extremas, avez-vous essayé avec la fonction g = -f ?')\n",
    "    else: return ('Votre fonction n\\'est pas encore au point, continuez à chercher.')\n",
    "\n",
    "nextQuestion()"
   ]
  },
  {
   "cell_type": "markdown",
   "metadata": {},
   "source": [
    "**B.9)** Ecrire les trois fonctions permettant de calculer le minimum et le maximum de la fonction $g=-f$ dans l'intervalle $\\mathopen{[}-1\\,;3,5\\mathclose{]}$"
   ]
  },
  {
   "cell_type": "code",
   "execution_count": null,
   "metadata": {},
   "outputs": [],
   "source": [
    "def g(x):\n",
    "    ...\n",
    "    \n",
    "def minG():\n",
    "    ...\n",
    "    \n",
    "def maxG():\n",
    "    ...\n",
    "    "
   ]
  },
  {
   "cell_type": "code",
   "execution_count": null,
   "metadata": {},
   "outputs": [],
   "source": []
  }
 ],
 "metadata": {
  "css": {
   "path": "main.css",
   "update": "delta"
  },
  "kernelspec": {
   "display_name": "Python 3",
   "language": "python",
   "name": "python3"
  },
  "language_info": {
   "codemirror_mode": {
    "name": "ipython",
    "version": 3
   },
   "file_extension": ".py",
   "mimetype": "text/x-python",
   "name": "python",
   "nbconvert_exporter": "python",
   "pygments_lexer": "ipython3",
   "version": "3.7.4"
  },
  "markdown_cell": "Format de la Cellule Texte Brut"
 },
 "nbformat": 4,
 "nbformat_minor": 4
}
